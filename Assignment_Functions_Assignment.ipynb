{
  "nbformat": 4,
  "nbformat_minor": 0,
  "metadata": {
    "colab": {
      "provenance": []
    },
    "kernelspec": {
      "name": "python3",
      "display_name": "Python 3"
    },
    "language_info": {
      "name": "python"
    }
  },
  "cells": [
    {
      "cell_type": "markdown",
      "source": [
        "#Theory Questions\n",
        "\n",
        "1. What is the difference between a function and a method in Python?\n",
        "\n",
        "--> A function is a block of code defined using 'def' or 'lambda' that can be called independently. A method, however, is a function that is associated with an object and is called using the object.\n",
        "\n",
        "Example:\n",
        "def add(a, b):\n",
        "    return a + b\n",
        "\n",
        "result = add(5, 3)  # Function call\n",
        "\n",
        "text = \"hello\"\n",
        "result = text.upper()  # Method call on string object\n",
        "\n",
        "2. Explain the concept of function arguments and parameters in Python.\n",
        "\n",
        "--> Parameters are variables defined in the function definition, while arguments are actual values passed to the function when it is called.\n",
        "\n",
        "Example:\n",
        "def greet(name):  # 'name' is a parameter\n",
        "    return f\"Hello, {name}!\"\n",
        "\n",
        "print(greet(\"Alice\"))  # 'Alice' is an argument\n",
        "\n",
        "3. What are the different ways to define and call a function in Python?\n",
        "\n",
        "--> Ways to define functions:\n",
        "1. Using def keyword\n",
        "2. Using lambda functions\n",
        "\n",
        "Example:\n",
        "def square(x):\n",
        "    return x * x\n",
        "\n",
        "lambda_square = lambda x: x * x\n",
        "\n",
        "print(square(4))  # using def\n",
        "print(lambda_square(4))  # using lambda\n",
        "\n",
        "4. What is the purpose of the return statement in a Python function?\n",
        "\n",
        "--> The 'return' statement is used to send back a result from a function to the caller.\n",
        "\n",
        "Example:\n",
        "def add(a, b):\n",
        "    return a + b\n",
        "\n",
        "print(add(5, 7))  # returns 12\n",
        "\n",
        "5. What are iterators in Python and how do they differ from iterables?\n",
        "\n",
        "--> An iterable is an object that can return an iterator (like lists, tuples, strings).\n",
        "An iterator is an object with '__next__()' method used to fetch next value.\n",
        "\n",
        "Example:\n",
        "nums = [1, 2, 3]\n",
        "it = iter(nums)\n",
        "print(next(it))  # 1\n",
        "print(next(it))  # 2\n",
        "\n",
        "6.\tExplain the concept of generators in Python and how they are defined.\n",
        "\n",
        "--> Generators are special functions that yield values one at a time using the 'yield' keyword instead of return.\n",
        "\n",
        "Example:\n",
        "def gen_nums():\n",
        "    for i in range(3):\n",
        "        yield i\n",
        "\n",
        "for num in gen_nums():\n",
        "    print(num)\n",
        "\n",
        "7.\tWhat are the advantages of using generators over regular functions?\n",
        "\n",
        "--> Advantages:\n",
        "a. Memory efficient (generate values on demand).\n",
        "b. Useful for large data sets and infinite sequences.\n",
        "\n",
        "Example:\n",
        "def squares(n):\n",
        "    for i in range(n):\n",
        "        yield i*i\n",
        "\n",
        "for val in squares(5):\n",
        "    print(val)\n",
        "\n",
        "8. What is a lambda function in Python and when is it typically used?\n",
        "\n",
        "--> A lambda function is an anonymous, one-line function defined using the 'lambda' keyword.\n",
        "It is typically used for short, throwaway functions.\n",
        "\n",
        "Example:\n",
        "square = lambda x: x * x\n",
        "print(square(6))\n",
        "\n",
        "9.\tExplain the purpose and usage of the map() function in Python.\n",
        "\n",
        "--> 'map()' applies a function to each item of an iterable and returns an iterator.\n",
        "\n",
        "Example:\n",
        "nums = [1, 2, 3]\n",
        "squares = list(map(lambda x: x**2, nums))\n",
        "print(squares)  # [1, 4, 9]\n",
        "\n",
        "10.\tWhat is the difference between map(), reduce(), and filter() functions in Python?\n",
        "\n",
        "--> map(): applies a function to each element of an iterable.\n",
        "filter(): filters elements based on a condition.\n",
        "reduce(): reduces an iterable to a single value by applying a function cumulatively.\n",
        "\n",
        "Example:\n",
        "from functools import reduce\n",
        "nums = [1, 2, 3, 4]\n",
        "print(list(map(lambda x: x*2, nums)))  # [2, 4, 6, 8]\n",
        "print(list(filter(lambda x: x%2==0, nums)))  # [2, 4]\n",
        "print(reduce(lambda x,y: x+y, nums))  # 10\n",
        "\n"
      ],
      "metadata": {
        "id": "XvGmccehtDmA"
      }
    },
    {
      "cell_type": "markdown",
      "source": [
        "#Practical Questions"
      ],
      "metadata": {
        "id": "HwR_fEDOtsL_"
      }
    },
    {
      "cell_type": "code",
      "source": [
        "# Write a Python function that takes a list of numbers as input and returns the sum of all even numbers in the list.\n",
        "\n",
        "def sum_even(numbers):\n",
        "    return sum(n for n in numbers if n % 2 == 0)\n",
        "\n",
        "print(sum_even([1, 2, 3, 4, 5, 6]))\n"
      ],
      "metadata": {
        "colab": {
          "base_uri": "https://localhost:8080/"
        },
        "id": "2onf-g_At0X3",
        "outputId": "0df4d463-3c3e-4509-88c3-13c5ffec43ab"
      },
      "execution_count": 1,
      "outputs": [
        {
          "output_type": "stream",
          "name": "stdout",
          "text": [
            "12\n"
          ]
        }
      ]
    },
    {
      "cell_type": "code",
      "source": [
        "#Create a Python function that accepts a string and returns the reverse of that string.\n",
        "\n",
        "def reverse_string(s):\n",
        "    return s[::-1]\n",
        "\n",
        "print(reverse_string('hello'))\n"
      ],
      "metadata": {
        "colab": {
          "base_uri": "https://localhost:8080/"
        },
        "id": "NonycAeMuHa-",
        "outputId": "655635be-ebd4-4c1e-b2af-e8f80ad6f4d1"
      },
      "execution_count": 2,
      "outputs": [
        {
          "output_type": "stream",
          "name": "stdout",
          "text": [
            "olleh\n"
          ]
        }
      ]
    },
    {
      "cell_type": "code",
      "source": [
        "#Implement a Python function that takes a list of integers and returns a new list containing the squares of each number.\n",
        "\n",
        "def square_list(lst):\n",
        "    return [x**2 for x in lst]\n",
        "\n",
        "print(square_list([1, 2, 3, 4]))\n"
      ],
      "metadata": {
        "colab": {
          "base_uri": "https://localhost:8080/"
        },
        "id": "qX2KBIFjuOfu",
        "outputId": "c6b8a0af-571f-477c-e819-a19a042a43a0"
      },
      "execution_count": 3,
      "outputs": [
        {
          "output_type": "stream",
          "name": "stdout",
          "text": [
            "[1, 4, 9, 16]\n"
          ]
        }
      ]
    },
    {
      "cell_type": "code",
      "source": [
        "#Write a Python function that checks if a given number is prime or not from 1 to 200.\n",
        "\n",
        "def is_prime(n):\n",
        "    if n < 2:\n",
        "        return False\n",
        "    for i in range(2, int(n**0.5)+1):\n",
        "        if n % i == 0:\n",
        "            return False\n",
        "    return True\n",
        "\n",
        "primes = [n for n in range(1, 201) if is_prime(n)]\n",
        "print(primes)\n"
      ],
      "metadata": {
        "colab": {
          "base_uri": "https://localhost:8080/"
        },
        "id": "N6wnDMA0uUCv",
        "outputId": "a52e8612-ce6f-4d8a-936a-43e5be75eb86"
      },
      "execution_count": 4,
      "outputs": [
        {
          "output_type": "stream",
          "name": "stdout",
          "text": [
            "[2, 3, 5, 7, 11, 13, 17, 19, 23, 29, 31, 37, 41, 43, 47, 53, 59, 61, 67, 71, 73, 79, 83, 89, 97, 101, 103, 107, 109, 113, 127, 131, 137, 139, 149, 151, 157, 163, 167, 173, 179, 181, 191, 193, 197, 199]\n"
          ]
        }
      ]
    },
    {
      "cell_type": "code",
      "source": [
        "#Create an iterator class in Python that generates the Fibonacci sequence up to a specified number of terms.\n",
        "\n",
        "class Fibonacci:\n",
        "    def __init__(self, n):\n",
        "        self.n = n\n",
        "        self.a, self.b, self.count = 0, 1, 0\n",
        "    def __iter__(self):\n",
        "        return self\n",
        "    def __next__(self):\n",
        "        if self.count >= self.n:\n",
        "            raise StopIteration\n",
        "        self.a, self.b = self.b, self.a + self.b\n",
        "        self.count += 1\n",
        "        return self.a\n",
        "for num in Fibonacci(10):\n",
        "    print(num)\n",
        "\n"
      ],
      "metadata": {
        "colab": {
          "base_uri": "https://localhost:8080/"
        },
        "id": "7pIE-YhkubQO",
        "outputId": "4ad4e9dc-f6ba-4fcd-8dcf-a1192dc1560e"
      },
      "execution_count": 13,
      "outputs": [
        {
          "output_type": "stream",
          "name": "stdout",
          "text": [
            "1\n",
            "1\n",
            "2\n",
            "3\n",
            "5\n",
            "8\n",
            "13\n",
            "21\n",
            "34\n",
            "55\n"
          ]
        }
      ]
    },
    {
      "cell_type": "code",
      "source": [
        "#Write a generator function in Python that yields the powers of 2 up to a given exponent.\n",
        "\n",
        "def powers_of_two(n):\n",
        "    for i in range(n+1):\n",
        "        yield 2**i\n",
        "\n",
        "for val in powers_of_two(5):\n",
        "    print(val)\n"
      ],
      "metadata": {
        "colab": {
          "base_uri": "https://localhost:8080/"
        },
        "id": "WAvCcn5fu2wX",
        "outputId": "28433fdd-c6d1-4319-daf9-ff99104df8af"
      },
      "execution_count": 15,
      "outputs": [
        {
          "output_type": "stream",
          "name": "stdout",
          "text": [
            "1\n",
            "2\n",
            "4\n",
            "8\n",
            "16\n",
            "32\n"
          ]
        }
      ]
    },
    {
      "cell_type": "code",
      "source": [
        "#Implement a generator function that reads a file line by line and yields each line as a string.\n",
        "\n",
        "def read_file(filename):\n",
        "    with open(filename, 'r') as f:\n",
        "        for line in f:\n",
        "            yield line.strip()\n",
        "\n",
        "# Example usage (requires file):\n",
        "# for line in read_file('example.txt'):\n",
        "#     print(line)\n"
      ],
      "metadata": {
        "id": "Ys0djzUSu9EW"
      },
      "execution_count": null,
      "outputs": []
    },
    {
      "cell_type": "code",
      "source": [
        "#Use a lambda function in Python to sort a list of tuples based on the second element of each tuple.\n",
        "\n",
        "data = [(1, 3), (2, 1), (4, 2)]\n",
        "sorted_data = sorted(data, key=lambda x: x[1])\n",
        "print(sorted_data)  # [(2, 1), (4, 2), (1, 3)]\n"
      ],
      "metadata": {
        "colab": {
          "base_uri": "https://localhost:8080/"
        },
        "id": "YryZujw_vIu1",
        "outputId": "05db1d52-8573-4ee7-9383-1f514791d5d2"
      },
      "execution_count": 16,
      "outputs": [
        {
          "output_type": "stream",
          "name": "stdout",
          "text": [
            "[(2, 1), (4, 2), (1, 3)]\n"
          ]
        }
      ]
    },
    {
      "cell_type": "code",
      "source": [
        "#Write a Python program that uses map() to convert a list of temperatures from Celsius to Fahrenheit.\n",
        "\n",
        "temps_c = [0, 20, 30, 40]\n",
        "temps_f = list(map(lambda c: (c * 9/5) + 32, temps_c))\n",
        "print(temps_f)  # [32.0, 68.0, 86.0, 104.0]\n"
      ],
      "metadata": {
        "colab": {
          "base_uri": "https://localhost:8080/"
        },
        "id": "Dn5SPPRuvNRe",
        "outputId": "0d96148f-0321-4a00-ed6c-9b359e8d56fd"
      },
      "execution_count": 17,
      "outputs": [
        {
          "output_type": "stream",
          "name": "stdout",
          "text": [
            "[32.0, 68.0, 86.0, 104.0]\n"
          ]
        }
      ]
    },
    {
      "cell_type": "code",
      "source": [
        "#Create a Python program that uses filter() to remove all the vowels from a given string.\n",
        "\n",
        "s = 'hello world'\n",
        "vowels = 'aeiou'\n",
        "filtered = ''.join(filter(lambda x: x.lower() not in vowels, s))\n",
        "print(filtered)  # 'hll wrld'\n"
      ],
      "metadata": {
        "colab": {
          "base_uri": "https://localhost:8080/"
        },
        "id": "KgUAHGbxvR1X",
        "outputId": "96a64329-307f-45ba-acb8-fbd3841d7408"
      },
      "execution_count": 18,
      "outputs": [
        {
          "output_type": "stream",
          "name": "stdout",
          "text": [
            "hll wrld\n"
          ]
        }
      ]
    },
    {
      "cell_type": "code",
      "source": [
        "#Imagine an accounting routine used in a book shop. It works on a list with sublists. Write a Python program, which returns a list with 2-tuples. Each tuple consists of the order number and the product of the price per item and the quantity. The product should be increased by 10,- € if the value of the order is smaller than 100,00 €. Write a Python program using lambda and map.\n",
        "\n",
        "orders = [[1, 200, 1], [2, 35, 2], [3, 50, 3]]\n",
        "result = list(map(lambda x: (x[0], x[1]*x[2] if x[1]*x[2] >= 100 else x[1]*x[2] + 10), orders))\n",
        "print(result)  # [(1, 200), (2, 80), (3, 160)]\n"
      ],
      "metadata": {
        "colab": {
          "base_uri": "https://localhost:8080/"
        },
        "id": "V8QZHAOovU12",
        "outputId": "7fb96480-ae74-4ad7-ca9c-3c894b84f73b"
      },
      "execution_count": 19,
      "outputs": [
        {
          "output_type": "stream",
          "name": "stdout",
          "text": [
            "[(1, 200), (2, 80), (3, 150)]\n"
          ]
        }
      ]
    }
  ]
}